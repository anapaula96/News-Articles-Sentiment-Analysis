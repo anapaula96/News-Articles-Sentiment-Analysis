{
 "cells": [
  {
   "cell_type": "code",
   "execution_count": 1,
   "id": "6aa53c0f",
   "metadata": {},
   "outputs": [
    {
     "name": "stdout",
     "output_type": "stream",
     "text": [
      "Requirement already satisfied: pandas in /opt/anaconda3/lib/python3.11/site-packages (2.1.4)\n",
      "Requirement already satisfied: numpy in /opt/anaconda3/lib/python3.11/site-packages (1.26.4)\n",
      "Requirement already satisfied: scikit-learn in /opt/anaconda3/lib/python3.11/site-packages (1.2.2)\n",
      "Requirement already satisfied: nltk in /opt/anaconda3/lib/python3.11/site-packages (3.8.1)\n",
      "Requirement already satisfied: python-dateutil>=2.8.2 in /opt/anaconda3/lib/python3.11/site-packages (from pandas) (2.8.2)\n",
      "Requirement already satisfied: pytz>=2020.1 in /opt/anaconda3/lib/python3.11/site-packages (from pandas) (2023.3.post1)\n",
      "Requirement already satisfied: tzdata>=2022.1 in /opt/anaconda3/lib/python3.11/site-packages (from pandas) (2023.3)\n",
      "Requirement already satisfied: scipy>=1.3.2 in /opt/anaconda3/lib/python3.11/site-packages (from scikit-learn) (1.11.4)\n",
      "Requirement already satisfied: joblib>=1.1.1 in /opt/anaconda3/lib/python3.11/site-packages (from scikit-learn) (1.2.0)\n",
      "Requirement already satisfied: threadpoolctl>=2.0.0 in /opt/anaconda3/lib/python3.11/site-packages (from scikit-learn) (2.2.0)\n",
      "Requirement already satisfied: click in /opt/anaconda3/lib/python3.11/site-packages (from nltk) (8.1.7)\n",
      "Requirement already satisfied: regex>=2021.8.3 in /opt/anaconda3/lib/python3.11/site-packages (from nltk) (2023.10.3)\n",
      "Requirement already satisfied: tqdm in /opt/anaconda3/lib/python3.11/site-packages (from nltk) (4.65.0)\n",
      "Requirement already satisfied: six>=1.5 in /opt/anaconda3/lib/python3.11/site-packages (from python-dateutil>=2.8.2->pandas) (1.16.0)\n",
      "Note: you may need to restart the kernel to use updated packages.\n"
     ]
    }
   ],
   "source": [
    "pip install pandas numpy scikit-learn nltk"
   ]
  },
  {
   "cell_type": "code",
   "execution_count": 3,
   "id": "5e358512",
   "metadata": {},
   "outputs": [],
   "source": [
    "import pandas as pd\n",
    "\n",
    "# Try reading with ISO-8859-1 encoding\n",
    "data = pd.read_csv('/Users/anapaulavaladez/Desktop/Python 4/Data.csv', encoding='ISO-8859-1')"
   ]
  },
  {
   "cell_type": "code",
   "execution_count": 6,
   "id": "51b4c6d7",
   "metadata": {},
   "outputs": [
    {
     "ename": "TypeError",
     "evalue": "read_csv() got an unexpected keyword argument 'errors'",
     "output_type": "error",
     "traceback": [
      "\u001b[0;31m---------------------------------------------------------------------------\u001b[0m",
      "\u001b[0;31mTypeError\u001b[0m                                 Traceback (most recent call last)",
      "Cell \u001b[0;32mIn[6], line 4\u001b[0m\n\u001b[1;32m      1\u001b[0m \u001b[38;5;28;01mimport\u001b[39;00m \u001b[38;5;21;01mpandas\u001b[39;00m \u001b[38;5;28;01mas\u001b[39;00m \u001b[38;5;21;01mpd\u001b[39;00m\n\u001b[1;32m      3\u001b[0m \u001b[38;5;66;03m# Read the file while handling errors\u001b[39;00m\n\u001b[0;32m----> 4\u001b[0m data \u001b[38;5;241m=\u001b[39m pd\u001b[38;5;241m.\u001b[39mread_csv(\u001b[38;5;124m'\u001b[39m\u001b[38;5;124m/Users/anapaulavaladez/Desktop/Python 4/Data.csv\u001b[39m\u001b[38;5;124m'\u001b[39m, encoding\u001b[38;5;241m=\u001b[39m\u001b[38;5;124m'\u001b[39m\u001b[38;5;124mutf-8\u001b[39m\u001b[38;5;124m'\u001b[39m, errors\u001b[38;5;241m=\u001b[39m\u001b[38;5;124m'\u001b[39m\u001b[38;5;124mreplace\u001b[39m\u001b[38;5;124m'\u001b[39m)\n\u001b[1;32m      5\u001b[0m \u001b[38;5;66;03m# Alternatively, you can use errors='ignore'\u001b[39;00m\n\u001b[1;32m      6\u001b[0m data \u001b[38;5;241m=\u001b[39m pd\u001b[38;5;241m.\u001b[39mread_csv(\u001b[38;5;124m'\u001b[39m\u001b[38;5;124m/Users/anapaulavaladez/Desktop/Python 4/Data.csv\u001b[39m\u001b[38;5;124m'\u001b[39m, encoding\u001b[38;5;241m=\u001b[39m\u001b[38;5;124m'\u001b[39m\u001b[38;5;124mutf-8\u001b[39m\u001b[38;5;124m'\u001b[39m, errors\u001b[38;5;241m=\u001b[39m\u001b[38;5;124m'\u001b[39m\u001b[38;5;124mignore\u001b[39m\u001b[38;5;124m'\u001b[39m)\n",
      "\u001b[0;31mTypeError\u001b[0m: read_csv() got an unexpected keyword argument 'errors'"
     ]
    }
   ],
   "source": [
    "import pandas as pd\n",
    "\n",
    "# Read the file while handling errors\n",
    "data = pd.read_csv('/Users/anapaulavaladez/Desktop/Python 4/Data.csv', encoding='utf-8', errors='replace')\n",
    "# Alternatively, you can use errors='ignore'\n",
    "data = pd.read_csv('/Users/anapaulavaladez/Desktop/Python 4/Data.csv', encoding='utf-8', errors='ignore')\n"
   ]
  },
  {
   "cell_type": "code",
   "execution_count": 7,
   "id": "112e1fc3",
   "metadata": {},
   "outputs": [
    {
     "name": "stdout",
     "output_type": "stream",
     "text": [
      "Requirement already satisfied: chardet in /opt/anaconda3/lib/python3.11/site-packages (4.0.0)\n",
      "Note: you may need to restart the kernel to use updated packages.\n"
     ]
    }
   ],
   "source": [
    "pip install chardet"
   ]
  },
  {
   "cell_type": "code",
   "execution_count": 9,
   "id": "e8f49aee",
   "metadata": {},
   "outputs": [],
   "source": [
    "import chardet\n",
    "\n",
    "# Detect the encoding\n",
    "with open('/Users/anapaulavaladez/Desktop/Python 4/Data.csv', 'rb') as file:\n",
    "    result = chardet.detect(file.read(10000))\n",
    "    encoding = result['encoding']\n",
    "\n",
    "# Read the file with the detected encoding\n",
    "data = pd.read_csv('/Users/anapaulavaladez/Desktop/Python 4/Data.csv', encoding=encoding)"
   ]
  },
  {
   "cell_type": "code",
   "execution_count": 12,
   "id": "303991c1",
   "metadata": {},
   "outputs": [],
   "source": [
    "import pandas as pd\n",
    "\n",
    "# Open the file in the original encoding and then save it as UTF-8\n",
    "with open('/Users/anapaulavaladez/Desktop/Python 4/Data.csv', 'r', encoding='ISO-8859-1') as file:\n",
    "    content = file.read()\n",
    "\n",
    "with open('/Users/anapaulavaladez/Desktop/Python 4/Data.csv', 'w', encoding='utf-8') as file:\n",
    "    file.write(content)\n",
    "\n",
    "# Now read the newly saved UTF-8 file\n",
    "data = pd.read_csv('/Users/anapaulavaladez/Desktop/Python 4/Data.csv')\n"
   ]
  },
  {
   "cell_type": "code",
   "execution_count": 13,
   "id": "c8fc3e80",
   "metadata": {},
   "outputs": [
    {
     "name": "stdout",
     "output_type": "stream",
     "text": [
      "Date     0\n",
      "Label    0\n",
      "Top1     0\n",
      "Top2     0\n",
      "Top3     0\n",
      "Top4     0\n",
      "Top5     0\n",
      "Top6     0\n",
      "Top7     0\n",
      "Top8     0\n",
      "Top9     0\n",
      "Top10    0\n",
      "Top11    0\n",
      "Top12    0\n",
      "Top13    0\n",
      "Top14    0\n",
      "Top15    0\n",
      "Top16    0\n",
      "Top17    0\n",
      "Top18    0\n",
      "Top19    0\n",
      "Top20    0\n",
      "Top21    0\n",
      "Top22    0\n",
      "Top23    1\n",
      "Top24    3\n",
      "Top25    3\n",
      "dtype: int64\n"
     ]
    }
   ],
   "source": [
    "# Check for missing values\n",
    "print(data.isnull().sum())\n",
    "\n",
    "# Remove duplicates\n",
    "data.drop_duplicates(inplace=True)"
   ]
  },
  {
   "cell_type": "code",
   "execution_count": 15,
   "id": "3b030358",
   "metadata": {},
   "outputs": [
    {
     "name": "stdout",
     "output_type": "stream",
     "text": [
      "         Date  Label                                               Top1  \\\n",
      "0  2000-01-03      0  A 'hindrance to operations': extracts from the...   \n",
      "1  2000-01-04      0                                          Scorecard   \n",
      "2  2000-01-05      0                  Coventry caught on counter by Flo   \n",
      "3  2000-01-06      1                      Pilgrim knows how to progress   \n",
      "4  2000-01-07      1                               Hitches and Horlocks   \n",
      "\n",
      "                                 Top2  \\\n",
      "0                           Scorecard   \n",
      "1                 The best lake scene   \n",
      "2  United's rivals on the road to Rio   \n",
      "3                 Thatcher facing ban   \n",
      "4      Beckham off but United survive   \n",
      "\n",
      "                                            Top3  \\\n",
      "0                Hughes' instant hit buoys Blues   \n",
      "1                  Leader: German sleaze inquiry   \n",
      "2  Thatcher issues defence before trial by video   \n",
      "3        McIlroy calls for Irish fighting spirit   \n",
      "4                        Breast cancer screening   \n",
      "\n",
      "                                            Top4  \\\n",
      "0       Jack gets his skates on at ice-cold Alex   \n",
      "1                                  Cheerio, boyo   \n",
      "2  Police help Smith lay down the law at Everton   \n",
      "3                Leicester bin stadium blueprint   \n",
      "4                                    Alan Parker   \n",
      "\n",
      "                                          Top5  \\\n",
      "0       Chaos as Maracana builds up for United   \n",
      "1                     The main recommendations   \n",
      "2  Tale of Trautmann bears two more retellings   \n",
      "3               United braced for Mexican wave   \n",
      "4      Guardian readers: are you all whingers?   \n",
      "\n",
      "                                                Top6  \\\n",
      "0  Depleted Leicester prevail as Elliott spoils E...   \n",
      "1                             Has Cubie killed fees?   \n",
      "2                                England on the rack   \n",
      "3  Auntie back in fashion, even if the dress look...   \n",
      "4                                   Hollywood Beyond   \n",
      "\n",
      "                                              Top7  \\\n",
      "0                 Hungry Spurs sense rich pickings   \n",
      "1                           Has Cubie killed fees?   \n",
      "2  Pakistan retaliate with call for video of Walsh   \n",
      "3                    Shoaib appeal goes to the top   \n",
      "4                               Ashes and diamonds   \n",
      "\n",
      "                                                Top8  ...  \\\n",
      "0                  Gunners so wide of an easy target  ...   \n",
      "1                             Has Cubie killed fees?  ...   \n",
      "2               Cullinan continues his Cape monopoly  ...   \n",
      "3  Hussain hurt by 'shambles' but lays blame on e...  ...   \n",
      "4                   Whingers - a formidable minority  ...   \n",
      "\n",
      "                                               Top16  \\\n",
      "0           Flintoff injury piles on woe for England   \n",
      "1                               On the critical list   \n",
      "2                        South Melbourne (Australia)   \n",
      "3  Putin admits Yeltsin quit to give him a head s...   \n",
      "4                             Most everywhere:  UDIs   \n",
      "\n",
      "                                               Top17  \\\n",
      "0  Hunters threaten Jospin with new battle of the...   \n",
      "1                          The timing of their lives   \n",
      "2                                    Necaxa (Mexico)   \n",
      "3         BBC worst hit as digital TV begins to bite   \n",
      "4                       Most wanted:  Chloe lunettes   \n",
      "\n",
      "                                            Top18  \\\n",
      "0             Kohl's successor drawn into scandal   \n",
      "1                                     Dear doctor   \n",
      "2                             Real Madrid (Spain)   \n",
      "3                     How much can you pay for...   \n",
      "4  Return of the cane 'completely off the agenda'   \n",
      "\n",
      "                                               Top19  \\\n",
      "0               The difference between men and women   \n",
      "1  Irish court halts IRA man's extradition to Nor...   \n",
      "2                          Raja Casablanca (Morocco)   \n",
      "3                                 Christmas glitches   \n",
      "4                   From Sleepy Hollow to Greeneland   \n",
      "\n",
      "                                               Top20  \\\n",
      "0                Sara Denver, nurse turned solicitor   \n",
      "1  Burundi peace initiative fades after rebels re...   \n",
      "2                               Corinthians (Brazil)   \n",
      "3  Upending a table, Chopping a line and Scoring ...   \n",
      "4              Blunkett outlines vision for over 11s   \n",
      "\n",
      "                                               Top21  \\\n",
      "0     Diana's landmine crusade put Tories in a panic   \n",
      "1               PE points the way forward to the ECB   \n",
      "2                                 Tony's pet project   \n",
      "3   Scientific evidence 'unreliable', defence claims   \n",
      "4  Embattled Dobson attacks 'play now, pay later'...   \n",
      "\n",
      "                                               Top22  \\\n",
      "0  Yeltsin's resignation caught opposition flat-f...   \n",
      "1  Campaigners keep up pressure on Nazi war crime...   \n",
      "2                            Al Nassr (Saudi Arabia)   \n",
      "3     Fusco wins judicial review in extradition case   \n",
      "4                                  Doom and the Dome   \n",
      "\n",
      "                             Top23  \\\n",
      "0                 Russian roulette   \n",
      "1                   Jane Ratcliffe   \n",
      "2                Ideal Holmes show   \n",
      "3    Rebels thwart Russian advance   \n",
      "4  What is the north-south divide?   \n",
      "\n",
      "                                               Top24  \\\n",
      "0                                           Sold out   \n",
      "1  Yet more things you wouldn't know without the ...   \n",
      "2               Pinochet leaves hospital after tests   \n",
      "3               Blair orders shake-up of failing NHS   \n",
      "4                          Aitken released from jail   \n",
      "\n",
      "                          Top25  \n",
      "0            Recovering a title  \n",
      "1  Millennium bug fails to bite  \n",
      "2                  Useful links  \n",
      "3   Lessons of law's hard heart  \n",
      "4                    Gone aloft  \n",
      "\n",
      "[5 rows x 27 columns]\n",
      "Index(['Date', 'Label', 'Top1', 'Top2', 'Top3', 'Top4', 'Top5', 'Top6', 'Top7',\n",
      "       'Top8', 'Top9', 'Top10', 'Top11', 'Top12', 'Top13', 'Top14', 'Top15',\n",
      "       'Top16', 'Top17', 'Top18', 'Top19', 'Top20', 'Top21', 'Top22', 'Top23',\n",
      "       'Top24', 'Top25'],\n",
      "      dtype='object')\n"
     ]
    }
   ],
   "source": [
    "# Inspect the first few rows and the column names\n",
    "print(data.head())\n",
    "print(data.columns)"
   ]
  },
  {
   "cell_type": "code",
   "execution_count": 16,
   "id": "92bfbe31",
   "metadata": {},
   "outputs": [
    {
     "name": "stdout",
     "output_type": "stream",
     "text": [
      "         Date  Label                                      all_headlines\n",
      "0  2000-01-03      0  A 'hindrance to operations': extracts from the...\n",
      "1  2000-01-04      0  Scorecard The best lake scene Leader: German s...\n",
      "2  2000-01-05      0  Coventry caught on counter by Flo United's riv...\n",
      "3  2000-01-06      1  Pilgrim knows how to progress Thatcher facing ...\n",
      "4  2000-01-07      1  Hitches and Horlocks Beckham off but United su...\n"
     ]
    }
   ],
   "source": [
    "# Concatenate headline columns\n",
    "headline_columns = ['Top' + str(i) for i in range(1, 26)]\n",
    "data['all_headlines'] = data[headline_columns].apply(lambda row: ' '.join(row.values.astype(str)), axis=1)\n",
    "\n",
    "# Inspect the concatenated column\n",
    "print(data[['Date', 'Label', 'all_headlines']].head())\n"
   ]
  },
  {
   "cell_type": "code",
   "execution_count": 17,
   "id": "8ad8df98",
   "metadata": {},
   "outputs": [
    {
     "name": "stderr",
     "output_type": "stream",
     "text": [
      "[nltk_data] Downloading package punkt to\n",
      "[nltk_data]     /Users/anapaulavaladez/nltk_data...\n",
      "[nltk_data]   Package punkt is already up-to-date!\n",
      "[nltk_data] Downloading package stopwords to\n",
      "[nltk_data]     /Users/anapaulavaladez/nltk_data...\n",
      "[nltk_data]   Package stopwords is already up-to-date!\n",
      "[nltk_data] Downloading package wordnet to\n",
      "[nltk_data]     /Users/anapaulavaladez/nltk_data...\n",
      "[nltk_data]   Package wordnet is already up-to-date!\n"
     ]
    },
    {
     "name": "stdout",
     "output_type": "stream",
     "text": [
      "         Date  Label                                     processed_text\n",
      "0  2000-01-03      0  'hindrance operation ' : extract leaked report...\n",
      "1  2000-01-04      0  Scorecard best lake scene Leader : German slea...\n",
      "2  2000-01-05      0  Coventry caught counter Flo United 's rival ro...\n",
      "3  2000-01-06      1  Pilgrim know progress Thatcher facing ban McIl...\n",
      "4  2000-01-07      1  Hitches Horlocks Beckham United survive Breast...\n"
     ]
    }
   ],
   "source": [
    "import nltk\n",
    "from nltk.corpus import stopwords\n",
    "from nltk.tokenize import word_tokenize\n",
    "from nltk.stem import WordNetLemmatizer\n",
    "\n",
    "nltk.download('punkt')\n",
    "nltk.download('stopwords')\n",
    "nltk.download('wordnet')\n",
    "\n",
    "stop_words = set(stopwords.words('english'))\n",
    "lemmatizer = WordNetLemmatizer()\n",
    "\n",
    "def preprocess_text(text):\n",
    "    # Tokenize\n",
    "    words = word_tokenize(text)\n",
    "    # Remove stop words\n",
    "    words = [word for word in words if word.lower() not in stop_words]\n",
    "    # Lemmatize\n",
    "    words = [lemmatizer.lemmatize(word) for word in words]\n",
    "    return ' '.join(words)\n",
    "\n",
    "# Preprocess the concatenated headlines\n",
    "data['processed_text'] = data['all_headlines'].apply(preprocess_text)\n",
    "\n",
    "# Inspect the processed text\n",
    "print(data[['Date', 'Label', 'processed_text']].head())"
   ]
  },
  {
   "cell_type": "code",
   "execution_count": 18,
   "id": "e16f7679",
   "metadata": {},
   "outputs": [
    {
     "name": "stderr",
     "output_type": "stream",
     "text": [
      "[nltk_data] Downloading package vader_lexicon to\n",
      "[nltk_data]     /Users/anapaulavaladez/nltk_data...\n"
     ]
    },
    {
     "name": "stdout",
     "output_type": "stream",
     "text": [
      "         Date  Label                                     processed_text  \\\n",
      "0  2000-01-03      0  'hindrance operation ' : extract leaked report...   \n",
      "1  2000-01-04      0  Scorecard best lake scene Leader : German slea...   \n",
      "2  2000-01-05      0  Coventry caught counter Flo United 's rival ro...   \n",
      "3  2000-01-06      1  Pilgrim know progress Thatcher facing ban McIl...   \n",
      "4  2000-01-07      1  Hitches Horlocks Beckham United survive Breast...   \n",
      "\n",
      "  sentiment  \n",
      "0  negative  \n",
      "1  negative  \n",
      "2  positive  \n",
      "3  negative  \n",
      "4  negative  \n"
     ]
    }
   ],
   "source": [
    "from nltk.sentiment.vader import SentimentIntensityAnalyzer\n",
    "\n",
    "nltk.download('vader_lexicon')\n",
    "sid = SentimentIntensityAnalyzer()\n",
    "\n",
    "def get_sentiment(text):\n",
    "    score = sid.polarity_scores(text)\n",
    "    if score['compound'] >= 0.05:\n",
    "        return 'positive'\n",
    "    elif score['compound'] <= -0.05:\n",
    "        return 'negative'\n",
    "    else:\n",
    "        return 'neutral'\n",
    "\n",
    "data['sentiment'] = data['processed_text'].apply(get_sentiment)\n",
    "\n",
    "# Inspect the sentiment labels\n",
    "print(data[['Date', 'Label', 'processed_text', 'sentiment']].head())"
   ]
  },
  {
   "cell_type": "code",
   "execution_count": 19,
   "id": "fca9e6bd",
   "metadata": {},
   "outputs": [
    {
     "data": {
      "image/png": "[encoded data removed]",
      "text/plain": [
       "<Figure size 800x600 with 1 Axes>"
      ]
     },
     "metadata": {},
     "output_type": "display_data"
    }
   ],
   "source": [
    "import matplotlib.pyplot as plt\n",
    "\n",
    "# Plot sentiment distribution\n",
    "sentiment_counts = data['sentiment'].value_counts()\n",
    "plt.figure(figsize=(8, 6))\n",
    "sentiment_counts.plot(kind='bar')\n",
    "plt.title('Sentiment Distribution in News Headlines')\n",
    "plt.xlabel('Sentiment')\n",
    "plt.ylabel('Number of Headlines')\n",
    "plt.show()"
   ]
  },
  {
   "cell_type": "code",
   "execution_count": 20,
   "id": "c9232a9b",
   "metadata": {},
   "outputs": [
    {
     "data": {
      "image/png": "[encoded data removed]",
      "text/plain": [
       "<Figure size 1200x800 with 1 Axes>"
      ]
     },
     "metadata": {},
     "output_type": "display_data"
    }
   ],
   "source": [
    "# Convert the Date column to datetime\n",
    "data['Date'] = pd.to_datetime(data['Date'], format='%Y-%m-%d')\n",
    "\n",
    "# Analyze sentiment trends over time\n",
    "sentiment_over_time = data.groupby([data['Date'].dt.date, 'sentiment']).size().unstack().fillna(0)\n",
    "\n",
    "# Plot sentiment trends over time\n",
    "sentiment_over_time.plot(kind='line', figsize=(12, 8))\n",
    "plt.title('Sentiment Trends Over Time')\n",
    "plt.xlabel('Date')\n",
    "plt.ylabel('Number of Headlines')\n",
    "plt.legend(title='Sentiment')\n",
    "plt.show()"
   ]
  },
  {
   "cell_type": "code",
   "execution_count": 21,
   "id": "aa0e6b59",
   "metadata": {},
   "outputs": [
    {
     "name": "stdout",
     "output_type": "stream",
     "text": [
      "              precision    recall  f1-score   support\n",
      "\n",
      "    negative       0.84      0.97      0.90       605\n",
      "     neutral       0.00      0.00      0.00         6\n",
      "    positive       0.81      0.48      0.60       210\n",
      "\n",
      "    accuracy                           0.83       821\n",
      "   macro avg       0.55      0.48      0.50       821\n",
      "weighted avg       0.82      0.83      0.81       821\n",
      "\n"
     ]
    },
    {
     "name": "stderr",
     "output_type": "stream",
     "text": [
      "/opt/anaconda3/lib/python3.11/site-packages/sklearn/metrics/_classification.py:1344: UndefinedMetricWarning: Precision and F-score are ill-defined and being set to 0.0 in labels with no predicted samples. Use `zero_division` parameter to control this behavior.\n",
      "  _warn_prf(average, modifier, msg_start, len(result))\n",
      "/opt/anaconda3/lib/python3.11/site-packages/sklearn/metrics/_classification.py:1344: UndefinedMetricWarning: Precision and F-score are ill-defined and being set to 0.0 in labels with no predicted samples. Use `zero_division` parameter to control this behavior.\n",
      "  _warn_prf(average, modifier, msg_start, len(result))\n",
      "/opt/anaconda3/lib/python3.11/site-packages/sklearn/metrics/_classification.py:1344: UndefinedMetricWarning: Precision and F-score are ill-defined and being set to 0.0 in labels with no predicted samples. Use `zero_division` parameter to control this behavior.\n",
      "  _warn_prf(average, modifier, msg_start, len(result))\n"
     ]
    }
   ],
   "source": [
    "from sklearn.model_selection import train_test_split\n",
    "from sklearn.feature_extraction.text import TfidfVectorizer\n",
    "from sklearn.linear_model import LogisticRegression\n",
    "from sklearn.pipeline import make_pipeline\n",
    "from sklearn.metrics import classification_report\n",
    "\n",
    "# Split the data into training and test sets\n",
    "X = data['processed_text']\n",
    "y = data['sentiment']\n",
    "\n",
    "X_train, X_test, y_train, y_test = train_test_split(X, y, test_size=0.2, random_state=42)\n",
    "\n",
    "# Train a logistic regression model\n",
    "model = make_pipeline(TfidfVectorizer(), LogisticRegression())\n",
    "model.fit(X_train, y_train)\n",
    "y_pred = model.predict(X_test)\n",
    "\n",
    "# Print classification report\n",
    "print(classification_report(y_test, y_pred))"
   ]
  },
  {
   "cell_type": "code",
   "execution_count": null,
   "id": "9dba2f3b",
   "metadata": {},
   "outputs": [],
   "source": []
  }
 ],
 "metadata": {
  "kernelspec": {
   "display_name": "Python 3 (ipykernel)",
   "language": "python",
   "name": "python3"
  },
  "language_info": {
   "codemirror_mode": {
    "name": "ipython",
    "version": 3
   },
   "file_extension": ".py",
   "mimetype": "text/x-python",
   "name": "python",
   "nbconvert_exporter": "python",
   "pygments_lexer": "ipython3",
   "version": "3.11.8"
  }
 },
 "nbformat": 4,
 "nbformat_minor": 5
}
